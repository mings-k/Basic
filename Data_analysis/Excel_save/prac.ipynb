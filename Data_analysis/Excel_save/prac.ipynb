{
 "cells": [
  {
   "cell_type": "markdown",
   "metadata": {},
   "source": [
    "#### Pandas를 이용한 데이터 Excel 저장"
   ]
  },
  {
   "cell_type": "code",
   "execution_count": 10,
   "metadata": {},
   "outputs": [
    {
     "name": "stdout",
     "output_type": "stream",
     "text": [
      "Requirement already satisfied: openpyxl==3.0.0 in c:\\users\\islab\\.conda\\envs\\mings\\lib\\site-packages (3.0.0)\n",
      "Requirement already satisfied: et-xmlfile in c:\\users\\islab\\.conda\\envs\\mings\\lib\\site-packages (from openpyxl==3.0.0) (1.1.0)\n",
      "Requirement already satisfied: jdcal in c:\\users\\islab\\.conda\\envs\\mings\\lib\\site-packages (from openpyxl==3.0.0) (1.4.1)\n"
     ]
    }
   ],
   "source": [
    "!pip install openpyxl==3.0.0"
   ]
  },
  {
   "cell_type": "code",
   "execution_count": 104,
   "metadata": {},
   "outputs": [
    {
     "name": "stdout",
     "output_type": "stream",
     "text": [
      "Excel 파일이 성공적으로 생성되었습니다.\n"
     ]
    }
   ],
   "source": [
    "# Excel에 데이터 넣기\n",
    "import pandas as pd\n",
    "\n",
    "array = pd.Series(['사과', '바나나', '당근'], index=['a', 'b', 'c'])\n",
    "\n",
    "# Series 객체를 DataFrame으로 변환\n",
    "df = array.to_frame(name='Fruit')\n",
    "\n",
    "# DataFrame을 Excel 파일로 저장\n",
    "df.to_excel('excel.xlsx')\n",
    "\n",
    "print(\"Excel 파일이 성공적으로 생성되었습니다.\")\n"
   ]
  },
  {
   "cell_type": "code",
   "execution_count": 105,
   "metadata": {},
   "outputs": [],
   "source": [
    "import pandas as pd\n",
    "import sys \n",
    "import os\n",
    "\n",
    "# 기존 Excel 파일 불러오기\n",
    "file_path = 'excel.xlsx'\n",
    "\n",
    "# 기존 파일 있는지 확인 후 진행 \n",
    "if(os.path.exists(file_path)):\n",
    "   \n",
    "    existing_df = pd.read_excel(file_path, sheet_name='Sheet1')\n",
    "\n",
    "    # 새로운 데이터 준비\n",
    "    new_data = {\n",
    "        'Car': [1, 2, 3],\n",
    "        'Ship': [4, 5, 6],\n",
    "        # 필요한만큼 컬럼 추가\n",
    "    }\n",
    "    new_df = pd.DataFrame(new_data)\n",
    "\n",
    "    # 기존 데이터와 새로운 데이터 병합(열 방향으로 병합)\n",
    "    updated_df = pd.concat([existing_df, new_df], axis=1)\n",
    "\n",
    "    # 업데이트된 데이터 저장하기\n",
    "    updated_df.to_excel(file_path, index=False, sheet_name='Sheet1')\n",
    "\n",
    "else:\n",
    "    new_data = {\n",
    "        'Column3': [1, 2, 3],\n",
    "        'Column4': [4, 5, 6],\n",
    "        # 필요한만큼 컬럼 추가\n",
    "    }\n",
    "    df = pd.DataFrame(new_data)\n",
    "    df.to_excel('New_excel.xlsx')\n"
   ]
  },
  {
   "cell_type": "code",
   "execution_count": 106,
   "metadata": {},
   "outputs": [
    {
     "name": "stdout",
     "output_type": "stream",
     "text": [
      "파일 'excel.xlsx' 처리 완료.\n"
     ]
    }
   ],
   "source": [
    "# 기존 데이터 행들에서 2칸 띄워 데이터 추가 \n",
    "import pandas as pd\n",
    "import os\n",
    "import sys \n",
    "\n",
    "file_path = 'excel.xlsx'\n",
    "\n",
    "# 기존 파일이 존재하는지 확인\n",
    "if os.path.exists(file_path):\n",
    "    # 기존 데이터 읽기\n",
    "    existing_df = pd.read_excel(file_path, sheet_name='Sheet1', index_col=None)\n",
    "    \n",
    "    # 행 2칸 띄우기\n",
    "    last_row_index = existing_df.index[-1]\n",
    "    empty_rows = pd.DataFrame(index=range(last_row_index + 1, last_row_index + 3))\n",
    "    expanded_df = pd.concat([existing_df, empty_rows], ignore_index=True)\n",
    "\n",
    "\n",
    "    # 새로운 데이터 준비\n",
    "    new_data = {\n",
    "        'Car': [1, 2, 3],\n",
    "        'Ship': [4, 5, 6],\n",
    "        # 필요한 만큼 컬럼 추가\n",
    "    }\n",
    "\n",
    "    new_df = pd.DataFrame(new_data)\n",
    "\n",
    "    # 새로운 데이터 추가\n",
    "    final_df = pd.concat([expanded_df, new_df], ignore_index=True)\n",
    "\n",
    "    # 업데이트된 데이터 저장하기\n",
    "    final_df.to_excel(file_path, index=False, sheet_name='Sheet1')\n",
    "\n",
    "else:\n",
    "    # 파일이 존재하지 않을 경우 새로운 파일 생성\n",
    "    new_data = {\n",
    "        'Column3': [1, 2, 3],\n",
    "        'Column4': [4, 5, 6],\n",
    "    }\n",
    "    df = pd.DataFrame(new_data)\n",
    "    df.to_excel('New_excel.xlsx', index=False, sheet_name='Sheet1')\n",
    "\n",
    "print(f\"파일 '{file_path}' 처리 완료.\")"
   ]
  },
  {
   "cell_type": "markdown",
   "metadata": {},
   "source": []
  },
  {
   "cell_type": "code",
   "execution_count": null,
   "metadata": {},
   "outputs": [],
   "source": []
  }
 ],
 "metadata": {
  "kernelspec": {
   "display_name": "mings",
   "language": "python",
   "name": "python3"
  },
  "language_info": {
   "codemirror_mode": {
    "name": "ipython",
    "version": 3
   },
   "file_extension": ".py",
   "mimetype": "text/x-python",
   "name": "python",
   "nbconvert_exporter": "python",
   "pygments_lexer": "ipython3",
   "version": "3.7.16"
  }
 },
 "nbformat": 4,
 "nbformat_minor": 2
}
